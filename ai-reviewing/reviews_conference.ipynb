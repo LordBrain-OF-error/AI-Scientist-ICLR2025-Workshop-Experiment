{
 "cells": [
  {
   "cell_type": "code",
   "execution_count": 1,
   "metadata": {},
   "outputs": [
    {
     "name": "stderr",
     "output_type": "stream",
     "text": [
      "/Users/rob/anaconda3/envs/llmopt/lib/python3.10/site-packages/pypdf/_crypt_providers/_cryptography.py:32: CryptographyDeprecationWarning: ARC4 has been moved to cryptography.hazmat.decrepit.ciphers.algorithms.ARC4 and will be removed from this module in 48.0.0.\n",
      "  from cryptography.hazmat.primitives.ciphers.algorithms import AES, ARC4\n"
     ]
    }
   ],
   "source": [
    "import time\n",
    "import os\n",
    "import openai\n",
    "import json\n",
    "from perform_review import perform_review, load_paper\n",
    "\n",
    "\n",
    "def review_paper(paper_name, folder_name, num_reviews=1):\n",
    "    paper_text = load_paper(os.path.join(folder_name, paper_name + \".pdf\"))\n",
    "\n",
    "    all_reviews = []\n",
    "    for i in range(num_reviews):\n",
    "        review = perform_review(\n",
    "            paper_text,\n",
    "            model=\"gpt-4o-2024-05-13\",\n",
    "            client=openai.OpenAI(),\n",
    "            num_reflections=5,\n",
    "            num_fs_examples=1,\n",
    "            num_reviews_ensemble=5,\n",
    "            temperature=0.1,\n",
    "        )\n",
    "        all_reviews.append(review)\n",
    "        timestamp = time.strftime(\"%Y%m%d-%H%M%S\")\n",
    "        with open(\n",
    "            f\"{folder_name}/ai_reviews/{timestamp}_review_{i}_conference_track.txt\", \"w\"\n",
    "        ) as f:\n",
    "            f.write(json.dumps(review, indent=4))\n",
    "        print(f\"{paper_name}: Finished review {i+1}/{num_reviews}\")\n",
    "    return all_reviews"
   ]
  },
  {
   "cell_type": "code",
   "execution_count": null,
   "metadata": {},
   "outputs": [
    {
     "name": "stdout",
     "output_type": "stream",
     "text": [
      "raw_paper: Finished review 1/1\n"
     ]
    }
   ],
   "source": [
    "reviews = review_paper(\"raw_paper\", \"../compositional-regularization\")"
   ]
  },
  {
   "cell_type": "code",
   "execution_count": 6,
   "metadata": {},
   "outputs": [
    {
     "name": "stdout",
     "output_type": "stream",
     "text": [
      "raw_paper: Finished review 1/1\n"
     ]
    }
   ],
   "source": [
    "reviews = review_paper(\"raw_paper\", \"../pest-detection\")"
   ]
  },
  {
   "cell_type": "code",
   "execution_count": 7,
   "metadata": {},
   "outputs": [
    {
     "name": "stdout",
     "output_type": "stream",
     "text": [
      "raw_paper: Finished review 1/1\n"
     ]
    }
   ],
   "source": [
    "reviews = review_paper(\"raw_paper\", \"../label-noise\")"
   ]
  },
  {
   "cell_type": "code",
   "execution_count": null,
   "metadata": {},
   "outputs": [],
   "source": []
  }
 ],
 "metadata": {
  "kernelspec": {
   "display_name": "llmopt",
   "language": "python",
   "name": "python3"
  },
  "language_info": {
   "codemirror_mode": {
    "name": "ipython",
    "version": 3
   },
   "file_extension": ".py",
   "mimetype": "text/x-python",
   "name": "python",
   "nbconvert_exporter": "python",
   "pygments_lexer": "ipython3",
   "version": "3.10.13"
  }
 },
 "nbformat": 4,
 "nbformat_minor": 2
}
